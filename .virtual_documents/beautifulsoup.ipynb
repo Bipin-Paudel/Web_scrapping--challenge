from bs4 import BeautifulSoup


with open('htmls/pages1.html') as f:
    content=f.read()


soup = BeautifulSoup(content,'html.parser')


h3s = soup.find_all("h3")


h3s


# for h3 in h3s:
#     print(h3.find("a")['title'])


articles = soup.select("article.product_pod")


items= []
for article in articles:
    title = article.find("h3").find("a")["title"]
    price =article.select_one("p.price_color").text.split("£")[1]
    rating_element = article.select_one("p.star-rating")
    rating = rating_element['class'][1]
    items.append([title,price,rating])
    


items


import pandas as pd


df = pd.DataFrame(items, columns=["Book_title", "Price","rating"])


df


df.to_csv("scrape.csv", index=False)




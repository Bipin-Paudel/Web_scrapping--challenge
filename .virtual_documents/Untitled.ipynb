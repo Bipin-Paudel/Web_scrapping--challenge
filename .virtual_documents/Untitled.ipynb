import requests


a = requests.get("https://paudelbipin.com.np")


 a.text   # it is used to get the html of the given linke


with open(f"htmls/index.html",'w') as f:
    f.write(a.text)
    



for i in range(1,51):
    a = requests.get(f"https://books.toscrape.com/catalogue/page-{i}.html")
    with open(f"htmls/pages{i}.html",'w') as f:
    f.write(a.text)
    print(f"successfully downloaded page{i} ")
    




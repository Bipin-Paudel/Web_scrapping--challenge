from bs4 import BeautifulSoup


with open('htmls/page1.html') as f:
    content=f.read()


soup = BeautifulSoup(content,'html.parser')




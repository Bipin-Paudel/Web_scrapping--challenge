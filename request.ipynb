{
 "cells": [
  {
   "cell_type": "code",
   "execution_count": 4,
   "id": "5f9a1d3c-aeee-42b1-bc4d-06bd0da4d4f5",
   "metadata": {},
   "outputs": [],
   "source": [
    "import requests"
   ]
  },
  {
   "cell_type": "code",
   "execution_count": 5,
   "id": "dca43497-dd71-4680-b83f-cf9b82568a2b",
   "metadata": {},
   "outputs": [],
   "source": [
    "a = requests.get(\"https://paudelbipin.com.np\")"
   ]
  },
  {
   "cell_type": "code",
   "execution_count": null,
   "id": "1db0d78a-fd94-47f8-895e-bd44b44eb104",
   "metadata": {},
   "outputs": [],
   "source": [
    " a.text   # it is used to get the html of the given linke"
   ]
  },
  {
   "cell_type": "code",
   "execution_count": 8,
   "id": "a5738240-06a0-4ab6-b901-fa98ce79b5dd",
   "metadata": {},
   "outputs": [],
   "source": [
    "with open(f\"htmls/index.html\",'w') as f:\n",
    "    f.write(a.text)\n",
    "    "
   ]
  },
  {
   "cell_type": "code",
   "execution_count": 12,
   "id": "95c68320-64c2-4534-ab34-d544b4549c7e",
   "metadata": {},
   "outputs": [
    {
     "name": "stdout",
     "output_type": "stream",
     "text": [
      "successfully downloaded page1 \n",
      "successfully downloaded page2 \n",
      "successfully downloaded page3 \n",
      "successfully downloaded page4 \n",
      "successfully downloaded page5 \n",
      "successfully downloaded page6 \n",
      "successfully downloaded page7 \n",
      "successfully downloaded page8 \n",
      "successfully downloaded page9 \n",
      "successfully downloaded page10 \n",
      "successfully downloaded page11 \n",
      "successfully downloaded page12 \n",
      "successfully downloaded page13 \n",
      "successfully downloaded page14 \n",
      "successfully downloaded page15 \n",
      "successfully downloaded page16 \n",
      "successfully downloaded page17 \n",
      "successfully downloaded page18 \n",
      "successfully downloaded page19 \n",
      "successfully downloaded page20 \n",
      "successfully downloaded page21 \n",
      "successfully downloaded page22 \n",
      "successfully downloaded page23 \n",
      "successfully downloaded page24 \n",
      "successfully downloaded page25 \n",
      "successfully downloaded page26 \n",
      "successfully downloaded page27 \n",
      "successfully downloaded page28 \n",
      "successfully downloaded page29 \n",
      "successfully downloaded page30 \n",
      "successfully downloaded page31 \n",
      "successfully downloaded page32 \n",
      "successfully downloaded page33 \n",
      "successfully downloaded page34 \n",
      "successfully downloaded page35 \n",
      "successfully downloaded page36 \n",
      "successfully downloaded page37 \n",
      "successfully downloaded page38 \n",
      "successfully downloaded page39 \n",
      "successfully downloaded page40 \n",
      "successfully downloaded page41 \n",
      "successfully downloaded page42 \n",
      "successfully downloaded page43 \n",
      "successfully downloaded page44 \n",
      "successfully downloaded page45 \n",
      "successfully downloaded page46 \n",
      "successfully downloaded page47 \n",
      "successfully downloaded page48 \n",
      "successfully downloaded page49 \n",
      "successfully downloaded page50 \n"
     ]
    }
   ],
   "source": [
    "\n",
    "for i in range(1,51):\n",
    "    a = requests.get(f\"https://books.toscrape.com/catalogue/page-{i}.html\")\n",
    "    with open(f\"htmls/pages{i}.html\",'w', encoding='utf-8') as f:\n",
    "     f.write(a.text)\n",
    "     print(f\"successfully downloaded page{i} \")\n",
    "    "
   ]
  },
  {
   "cell_type": "code",
   "execution_count": null,
   "id": "a4e2ea07-6f85-4567-bb42-d17c5e58e673",
   "metadata": {},
   "outputs": [],
   "source": []
  }
 ],
 "metadata": {
  "kernelspec": {
   "display_name": "Python 3 (ipykernel)",
   "language": "python",
   "name": "python3"
  },
  "language_info": {
   "codemirror_mode": {
    "name": "ipython",
    "version": 3
   },
   "file_extension": ".py",
   "mimetype": "text/x-python",
   "name": "python",
   "nbconvert_exporter": "python",
   "pygments_lexer": "ipython3",
   "version": "3.12.7"
  }
 },
 "nbformat": 4,
 "nbformat_minor": 5
}
